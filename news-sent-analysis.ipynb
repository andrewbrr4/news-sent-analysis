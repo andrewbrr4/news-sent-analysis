{
 "cells": [
  {
   "cell_type": "code",
   "execution_count": 1,
   "id": "2c8f0fe8",
   "metadata": {
    "_cell_guid": "b1076dfc-b9ad-4769-8c92-a6c4dae69d19",
    "_uuid": "8f2839f25d086af736a60e9eeb907d3b93b6e0e5",
    "execution": {
     "iopub.execute_input": "2022-02-16T02:50:00.477343Z",
     "iopub.status.busy": "2022-02-16T02:50:00.476750Z",
     "iopub.status.idle": "2022-02-16T02:50:00.502669Z",
     "shell.execute_reply": "2022-02-16T02:50:00.501771Z",
     "shell.execute_reply.started": "2022-02-16T02:41:32.070213Z"
    },
    "papermill": {
     "duration": 0.047845,
     "end_time": "2022-02-16T02:50:00.502850",
     "exception": false,
     "start_time": "2022-02-16T02:50:00.455005",
     "status": "completed"
    },
    "tags": []
   },
   "outputs": [
    {
     "name": "stdout",
     "output_type": "stream",
     "text": [
      "/kaggle/input/sentiment-analysis-for-financial-news/all-data.csv\n",
      "/kaggle/input/sentiment-analysis-for-financial-news/FinancialPhraseBank/Sentences_66Agree.txt\n",
      "/kaggle/input/sentiment-analysis-for-financial-news/FinancialPhraseBank/Sentences_AllAgree.txt\n",
      "/kaggle/input/sentiment-analysis-for-financial-news/FinancialPhraseBank/README.txt\n",
      "/kaggle/input/sentiment-analysis-for-financial-news/FinancialPhraseBank/License.txt\n",
      "/kaggle/input/sentiment-analysis-for-financial-news/FinancialPhraseBank/Sentences_75Agree.txt\n",
      "/kaggle/input/sentiment-analysis-for-financial-news/FinancialPhraseBank/Sentences_50Agree.txt\n"
     ]
    }
   ],
   "source": [
    "# This Python 3 environment comes with many helpful analytics libraries installed\n",
    "# It is defined by the kaggle/python Docker image: https://github.com/kaggle/docker-python\n",
    "# For example, here's several helpful packages to load\n",
    "\n",
    "import numpy as np # linear algebra\n",
    "import pandas as pd # data processing, CSV file I/O (e.g. pd.read_csv)\n",
    "\n",
    "# Input data files are available in the read-only \"../input/\" directory\n",
    "# For example, running this (by clicking run or pressing Shift+Enter) will list all files under the input directory\n",
    "\n",
    "import os\n",
    "for dirname, _, filenames in os.walk('/kaggle/input'):\n",
    "    for filename in filenames:\n",
    "        print(os.path.join(dirname, filename))\n",
    "\n",
    "# You can write up to 20GB to the current directory (/kaggle/working/) that gets preserved as output when you create a version using \"Save & Run All\" \n",
    "# You can also write temporary files to /kaggle/temp/, but they won't be saved outside of the current session"
   ]
  },
  {
   "cell_type": "code",
   "execution_count": 2,
   "id": "783dc837",
   "metadata": {
    "execution": {
     "iopub.execute_input": "2022-02-16T02:50:00.533126Z",
     "iopub.status.busy": "2022-02-16T02:50:00.532653Z",
     "iopub.status.idle": "2022-02-16T02:50:00.580646Z",
     "shell.execute_reply": "2022-02-16T02:50:00.581065Z",
     "shell.execute_reply.started": "2022-02-16T02:41:32.635130Z"
    },
    "papermill": {
     "duration": 0.065455,
     "end_time": "2022-02-16T02:50:00.581218",
     "exception": false,
     "start_time": "2022-02-16T02:50:00.515763",
     "status": "completed"
    },
    "tags": []
   },
   "outputs": [
    {
     "data": {
      "text/html": [
       "<div>\n",
       "<style scoped>\n",
       "    .dataframe tbody tr th:only-of-type {\n",
       "        vertical-align: middle;\n",
       "    }\n",
       "\n",
       "    .dataframe tbody tr th {\n",
       "        vertical-align: top;\n",
       "    }\n",
       "\n",
       "    .dataframe thead th {\n",
       "        text-align: right;\n",
       "    }\n",
       "</style>\n",
       "<table border=\"1\" class=\"dataframe\">\n",
       "  <thead>\n",
       "    <tr style=\"text-align: right;\">\n",
       "      <th></th>\n",
       "      <th>rating</th>\n",
       "      <th>text</th>\n",
       "    </tr>\n",
       "  </thead>\n",
       "  <tbody>\n",
       "    <tr>\n",
       "      <th>0</th>\n",
       "      <td>neutral</td>\n",
       "      <td>According to Gran , the company has no plans t...</td>\n",
       "    </tr>\n",
       "    <tr>\n",
       "      <th>1</th>\n",
       "      <td>neutral</td>\n",
       "      <td>Technopolis plans to develop in stages an area...</td>\n",
       "    </tr>\n",
       "    <tr>\n",
       "      <th>2</th>\n",
       "      <td>negative</td>\n",
       "      <td>The international electronic industry company ...</td>\n",
       "    </tr>\n",
       "    <tr>\n",
       "      <th>3</th>\n",
       "      <td>positive</td>\n",
       "      <td>With the new production plant the company woul...</td>\n",
       "    </tr>\n",
       "    <tr>\n",
       "      <th>4</th>\n",
       "      <td>positive</td>\n",
       "      <td>According to the company 's updated strategy f...</td>\n",
       "    </tr>\n",
       "  </tbody>\n",
       "</table>\n",
       "</div>"
      ],
      "text/plain": [
       "     rating                                               text\n",
       "0   neutral  According to Gran , the company has no plans t...\n",
       "1   neutral  Technopolis plans to develop in stages an area...\n",
       "2  negative  The international electronic industry company ...\n",
       "3  positive  With the new production plant the company woul...\n",
       "4  positive  According to the company 's updated strategy f..."
      ]
     },
     "execution_count": 2,
     "metadata": {},
     "output_type": "execute_result"
    }
   ],
   "source": [
    "df = pd.read_csv('/kaggle/input/sentiment-analysis-for-financial-news/all-data.csv',encoding='latin1'\n",
    "                ,header=None,names=['rating','text'])\n",
    "df.head()"
   ]
  },
  {
   "cell_type": "code",
   "execution_count": 3,
   "id": "6bad024b",
   "metadata": {
    "execution": {
     "iopub.execute_input": "2022-02-16T02:50:00.604500Z",
     "iopub.status.busy": "2022-02-16T02:50:00.603992Z",
     "iopub.status.idle": "2022-02-16T02:50:00.605990Z",
     "shell.execute_reply": "2022-02-16T02:50:00.606423Z",
     "shell.execute_reply.started": "2022-02-16T02:48:07.071914Z"
    },
    "papermill": {
     "duration": 0.015846,
     "end_time": "2022-02-16T02:50:00.606616",
     "exception": false,
     "start_time": "2022-02-16T02:50:00.590770",
     "status": "completed"
    },
    "tags": []
   },
   "outputs": [],
   "source": [
    "# first need to clean"
   ]
  },
  {
   "cell_type": "markdown",
   "id": "0c2f2a30",
   "metadata": {
    "papermill": {
     "duration": 0.008435,
     "end_time": "2022-02-16T02:50:00.623857",
     "exception": false,
     "start_time": "2022-02-16T02:50:00.615422",
     "status": "completed"
    },
    "tags": []
   },
   "source": [
    "# PLAN - run a neural network text classification model"
   ]
  },
  {
   "cell_type": "code",
   "execution_count": 4,
   "id": "147818a2",
   "metadata": {
    "execution": {
     "iopub.execute_input": "2022-02-16T02:50:00.646263Z",
     "iopub.status.busy": "2022-02-16T02:50:00.645508Z",
     "iopub.status.idle": "2022-02-16T02:50:07.112664Z",
     "shell.execute_reply": "2022-02-16T02:50:07.112090Z",
     "shell.execute_reply.started": "2022-02-16T02:41:36.299583Z"
    },
    "papermill": {
     "duration": 6.479957,
     "end_time": "2022-02-16T02:50:07.112782",
     "exception": false,
     "start_time": "2022-02-16T02:50:00.632825",
     "status": "completed"
    },
    "tags": []
   },
   "outputs": [],
   "source": [
    "from sklearn.feature_extraction.text import TfidfVectorizer\n",
    "from tensorflow import keras"
   ]
  },
  {
   "cell_type": "code",
   "execution_count": 5,
   "id": "869cd570",
   "metadata": {
    "execution": {
     "iopub.execute_input": "2022-02-16T02:50:07.141509Z",
     "iopub.status.busy": "2022-02-16T02:50:07.138576Z",
     "iopub.status.idle": "2022-02-16T02:50:07.144252Z",
     "shell.execute_reply": "2022-02-16T02:50:07.144722Z",
     "shell.execute_reply.started": "2022-02-16T02:46:50.896710Z"
    },
    "papermill": {
     "duration": 0.023232,
     "end_time": "2022-02-16T02:50:07.144889",
     "exception": false,
     "start_time": "2022-02-16T02:50:07.121657",
     "status": "completed"
    },
    "tags": []
   },
   "outputs": [
    {
     "data": {
      "text/plain": [
       "0       According to Gran , the company has no plans t...\n",
       "1       Technopolis plans to develop in stages an area...\n",
       "2       The international electronic industry company ...\n",
       "3       With the new production plant the company woul...\n",
       "4       According to the company 's updated strategy f...\n",
       "                              ...                        \n",
       "4841    LONDON MarketWatch -- Share prices ended lower...\n",
       "4842    Rinkuskiai 's beer sales fell by 6.5 per cent ...\n",
       "4843    Operating profit fell to EUR 35.4 mn from EUR ...\n",
       "4844    Net sales of the Paper segment decreased to EU...\n",
       "4845    Sales in Finland decreased by 10.5 % in Januar...\n",
       "Name: text, Length: 4846, dtype: object"
      ]
     },
     "execution_count": 5,
     "metadata": {},
     "output_type": "execute_result"
    }
   ],
   "source": [
    "df['text']"
   ]
  },
  {
   "cell_type": "code",
   "execution_count": 6,
   "id": "485a38b8",
   "metadata": {
    "execution": {
     "iopub.execute_input": "2022-02-16T02:50:07.168653Z",
     "iopub.status.busy": "2022-02-16T02:50:07.168151Z",
     "iopub.status.idle": "2022-02-16T02:50:07.967465Z",
     "shell.execute_reply": "2022-02-16T02:50:07.967046Z",
     "shell.execute_reply.started": "2022-02-16T02:47:51.570505Z"
    },
    "papermill": {
     "duration": 0.813577,
     "end_time": "2022-02-16T02:50:07.967576",
     "exception": false,
     "start_time": "2022-02-16T02:50:07.153999",
     "status": "completed"
    },
    "tags": []
   },
   "outputs": [
    {
     "data": {
      "text/plain": [
       "(4846, 200)"
      ]
     },
     "execution_count": 6,
     "metadata": {},
     "output_type": "execute_result"
    }
   ],
   "source": [
    "from keras.preprocessing.text import Tokenizer\n",
    "from keras.preprocessing.sequence import pad_sequences\n",
    "\n",
    "max_words = 5000\n",
    "max_len = 200\n",
    "\n",
    "tokenizer = Tokenizer(num_words=max_words)\n",
    "tokenizer.fit_on_texts(list(df['text']))\n",
    "sequences = tokenizer.texts_to_sequences(list(df['text']))\n",
    "padded = pad_sequences(sequences, maxlen=max_len)\n",
    "padded.shape"
   ]
  },
  {
   "cell_type": "code",
   "execution_count": 7,
   "id": "91f7c12d",
   "metadata": {
    "execution": {
     "iopub.execute_input": "2022-02-16T02:50:07.991375Z",
     "iopub.status.busy": "2022-02-16T02:50:07.990881Z",
     "iopub.status.idle": "2022-02-16T02:50:08.058447Z",
     "shell.execute_reply": "2022-02-16T02:50:08.058851Z",
     "shell.execute_reply.started": "2022-02-16T02:49:32.170927Z"
    },
    "papermill": {
     "duration": 0.082245,
     "end_time": "2022-02-16T02:50:08.058988",
     "exception": false,
     "start_time": "2022-02-16T02:50:07.976743",
     "status": "completed"
    },
    "tags": []
   },
   "outputs": [
    {
     "name": "stderr",
     "output_type": "stream",
     "text": [
      "2022-02-16 02:50:08.028643: I tensorflow/core/common_runtime/process_util.cc:146] Creating new thread pool with default inter op setting: 2. Tune using inter_op_parallelism_threads for best performance.\n"
     ]
    }
   ],
   "source": [
    "from keras.models import Sequential\n",
    "\n",
    "model = Sequential()"
   ]
  },
  {
   "cell_type": "code",
   "execution_count": null,
   "id": "dc84a537",
   "metadata": {
    "papermill": {
     "duration": 0.009618,
     "end_time": "2022-02-16T02:50:08.078288",
     "exception": false,
     "start_time": "2022-02-16T02:50:08.068670",
     "status": "completed"
    },
    "tags": []
   },
   "outputs": [],
   "source": []
  }
 ],
 "metadata": {
  "kernelspec": {
   "display_name": "Python 3",
   "language": "python",
   "name": "python3"
  },
  "language_info": {
   "codemirror_mode": {
    "name": "ipython",
    "version": 3
   },
   "file_extension": ".py",
   "mimetype": "text/x-python",
   "name": "python",
   "nbconvert_exporter": "python",
   "pygments_lexer": "ipython3",
   "version": "3.7.12"
  },
  "papermill": {
   "default_parameters": {},
   "duration": 19.617695,
   "end_time": "2022-02-16T02:50:11.409158",
   "environment_variables": {},
   "exception": null,
   "input_path": "__notebook__.ipynb",
   "output_path": "__notebook__.ipynb",
   "parameters": {},
   "start_time": "2022-02-16T02:49:51.791463",
   "version": "2.3.3"
  }
 },
 "nbformat": 4,
 "nbformat_minor": 5
}
