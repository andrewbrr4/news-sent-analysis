{
 "cells": [
  {
   "cell_type": "code",
   "execution_count": 1,
   "id": "671eb60c",
   "metadata": {
    "_cell_guid": "b1076dfc-b9ad-4769-8c92-a6c4dae69d19",
    "_uuid": "8f2839f25d086af736a60e9eeb907d3b93b6e0e5",
    "execution": {
     "iopub.execute_input": "2022-02-22T04:43:06.153885Z",
     "iopub.status.busy": "2022-02-22T04:43:06.152709Z",
     "iopub.status.idle": "2022-02-22T04:43:06.180361Z",
     "shell.execute_reply": "2022-02-22T04:43:06.179598Z",
     "shell.execute_reply.started": "2022-02-22T04:33:47.824168Z"
    },
    "papermill": {
     "duration": 0.044537,
     "end_time": "2022-02-22T04:43:06.180570",
     "exception": false,
     "start_time": "2022-02-22T04:43:06.136033",
     "status": "completed"
    },
    "tags": []
   },
   "outputs": [
    {
     "name": "stdout",
     "output_type": "stream",
     "text": [
      "/kaggle/input/sentiment-analysis-for-financial-news/all-data.csv\n",
      "/kaggle/input/sentiment-analysis-for-financial-news/FinancialPhraseBank/Sentences_66Agree.txt\n",
      "/kaggle/input/sentiment-analysis-for-financial-news/FinancialPhraseBank/Sentences_AllAgree.txt\n",
      "/kaggle/input/sentiment-analysis-for-financial-news/FinancialPhraseBank/README.txt\n",
      "/kaggle/input/sentiment-analysis-for-financial-news/FinancialPhraseBank/License.txt\n",
      "/kaggle/input/sentiment-analysis-for-financial-news/FinancialPhraseBank/Sentences_75Agree.txt\n",
      "/kaggle/input/sentiment-analysis-for-financial-news/FinancialPhraseBank/Sentences_50Agree.txt\n"
     ]
    }
   ],
   "source": [
    "# This Python 3 environment comes with many helpful analytics libraries installed\n",
    "# It is defined by the kaggle/python Docker image: https://github.com/kaggle/docker-python\n",
    "# For example, here's several helpful packages to load\n",
    "\n",
    "import numpy as np # linear algebra\n",
    "import pandas as pd # data processing, CSV file I/O (e.g. pd.read_csv)\n",
    "\n",
    "# Input data files are available in the read-only \"../input/\" directory\n",
    "# For example, running this (by clicking run or pressing Shift+Enter) will list all files under the input directory\n",
    "\n",
    "import os\n",
    "for dirname, _, filenames in os.walk('/kaggle/input'):\n",
    "    for filename in filenames:\n",
    "        print(os.path.join(dirname, filename))\n",
    "\n",
    "# You can write up to 20GB to the current directory (/kaggle/working/) that gets preserved as output when you create a version using \"Save & Run All\" \n",
    "# You can also write temporary files to /kaggle/temp/, but they won't be saved outside of the current session"
   ]
  },
  {
   "cell_type": "code",
   "execution_count": 2,
   "id": "23ba54bf",
   "metadata": {
    "execution": {
     "iopub.execute_input": "2022-02-22T04:43:06.210354Z",
     "iopub.status.busy": "2022-02-22T04:43:06.209686Z",
     "iopub.status.idle": "2022-02-22T04:43:06.256377Z",
     "shell.execute_reply": "2022-02-22T04:43:06.256888Z",
     "shell.execute_reply.started": "2022-02-22T04:33:47.849330Z"
    },
    "papermill": {
     "duration": 0.064153,
     "end_time": "2022-02-22T04:43:06.257076",
     "exception": false,
     "start_time": "2022-02-22T04:43:06.192923",
     "status": "completed"
    },
    "tags": []
   },
   "outputs": [
    {
     "data": {
      "text/html": [
       "<div>\n",
       "<style scoped>\n",
       "    .dataframe tbody tr th:only-of-type {\n",
       "        vertical-align: middle;\n",
       "    }\n",
       "\n",
       "    .dataframe tbody tr th {\n",
       "        vertical-align: top;\n",
       "    }\n",
       "\n",
       "    .dataframe thead th {\n",
       "        text-align: right;\n",
       "    }\n",
       "</style>\n",
       "<table border=\"1\" class=\"dataframe\">\n",
       "  <thead>\n",
       "    <tr style=\"text-align: right;\">\n",
       "      <th></th>\n",
       "      <th>rating</th>\n",
       "      <th>text</th>\n",
       "    </tr>\n",
       "  </thead>\n",
       "  <tbody>\n",
       "    <tr>\n",
       "      <th>0</th>\n",
       "      <td>neutral</td>\n",
       "      <td>According to Gran , the company has no plans t...</td>\n",
       "    </tr>\n",
       "    <tr>\n",
       "      <th>1</th>\n",
       "      <td>neutral</td>\n",
       "      <td>Technopolis plans to develop in stages an area...</td>\n",
       "    </tr>\n",
       "    <tr>\n",
       "      <th>2</th>\n",
       "      <td>negative</td>\n",
       "      <td>The international electronic industry company ...</td>\n",
       "    </tr>\n",
       "    <tr>\n",
       "      <th>3</th>\n",
       "      <td>positive</td>\n",
       "      <td>With the new production plant the company woul...</td>\n",
       "    </tr>\n",
       "    <tr>\n",
       "      <th>4</th>\n",
       "      <td>positive</td>\n",
       "      <td>According to the company 's updated strategy f...</td>\n",
       "    </tr>\n",
       "  </tbody>\n",
       "</table>\n",
       "</div>"
      ],
      "text/plain": [
       "     rating                                               text\n",
       "0   neutral  According to Gran , the company has no plans t...\n",
       "1   neutral  Technopolis plans to develop in stages an area...\n",
       "2  negative  The international electronic industry company ...\n",
       "3  positive  With the new production plant the company woul...\n",
       "4  positive  According to the company 's updated strategy f..."
      ]
     },
     "execution_count": 2,
     "metadata": {},
     "output_type": "execute_result"
    }
   ],
   "source": [
    "df = pd.read_csv('/kaggle/input/sentiment-analysis-for-financial-news/all-data.csv',encoding='latin1'\n",
    "                ,header=None,names=['rating','text'])\n",
    "df.head()"
   ]
  },
  {
   "cell_type": "code",
   "execution_count": 3,
   "id": "43db0806",
   "metadata": {
    "execution": {
     "iopub.execute_input": "2022-02-22T04:43:06.288351Z",
     "iopub.status.busy": "2022-02-22T04:43:06.287494Z",
     "iopub.status.idle": "2022-02-22T04:43:12.341738Z",
     "shell.execute_reply": "2022-02-22T04:43:12.341086Z",
     "shell.execute_reply.started": "2022-02-22T04:33:47.876618Z"
    },
    "papermill": {
     "duration": 6.072317,
     "end_time": "2022-02-22T04:43:12.341889",
     "exception": false,
     "start_time": "2022-02-22T04:43:06.269572",
     "status": "completed"
    },
    "tags": []
   },
   "outputs": [
    {
     "data": {
      "text/plain": [
       "102    52\n",
       "95     49\n",
       "96     46\n",
       "67     43\n",
       "91     43\n",
       "       ..\n",
       "17      1\n",
       "315     1\n",
       "305     1\n",
       "9       1\n",
       "263     1\n",
       "Name: text, Length: 285, dtype: int64"
      ]
     },
     "execution_count": 3,
     "metadata": {},
     "output_type": "execute_result"
    }
   ],
   "source": [
    "from keras.preprocessing.text import Tokenizer\n",
    "\n",
    "tokenizer=Tokenizer(num_words=5000)\n",
    "tokenizer.fit_on_texts(df.text.values)\n",
    "\n",
    "tokenized = tokenizer.texts_to_sequences(df.text.values)\n",
    "sen_length = df.text.apply(lambda x: len(x))\n",
    "sen_length.value_counts()"
   ]
  },
  {
   "cell_type": "code",
   "execution_count": 4,
   "id": "adb2cb70",
   "metadata": {
    "execution": {
     "iopub.execute_input": "2022-02-22T04:43:12.373024Z",
     "iopub.status.busy": "2022-02-22T04:43:12.372019Z",
     "iopub.status.idle": "2022-02-22T04:43:12.415793Z",
     "shell.execute_reply": "2022-02-22T04:43:12.415196Z",
     "shell.execute_reply.started": "2022-02-22T04:33:48.093511Z"
    },
    "papermill": {
     "duration": 0.060795,
     "end_time": "2022-02-22T04:43:12.415940",
     "exception": false,
     "start_time": "2022-02-22T04:43:12.355145",
     "status": "completed"
    },
    "tags": []
   },
   "outputs": [
    {
     "data": {
      "text/plain": [
       "array([[  0,   0,   0, ...,  11,  10, 747],\n",
       "       [  0,   0,   0, ...,   1, 929,  19],\n",
       "       [  0,   0,   0, ...,   1, 877, 251],\n",
       "       ...,\n",
       "       [  0,   0,   0, ..., 129,  38,  23],\n",
       "       [  0,   0,   0, ...,  57,  54,  23],\n",
       "       [  0,   0,   0, ..., 962,  18, 295]], dtype=int32)"
      ]
     },
     "execution_count": 4,
     "metadata": {},
     "output_type": "execute_result"
    }
   ],
   "source": [
    "from keras.preprocessing.sequence import pad_sequences\n",
    "\n",
    "X = pad_sequences(tokenized,maxlen=200)\n",
    "X"
   ]
  },
  {
   "cell_type": "code",
   "execution_count": 5,
   "id": "871532ea",
   "metadata": {
    "execution": {
     "iopub.execute_input": "2022-02-22T04:43:12.459662Z",
     "iopub.status.busy": "2022-02-22T04:43:12.444707Z",
     "iopub.status.idle": "2022-02-22T04:43:12.463188Z",
     "shell.execute_reply": "2022-02-22T04:43:12.462700Z",
     "shell.execute_reply.started": "2022-02-22T04:33:48.127131Z"
    },
    "papermill": {
     "duration": 0.034267,
     "end_time": "2022-02-22T04:43:12.463327",
     "exception": false,
     "start_time": "2022-02-22T04:43:12.429060",
     "status": "completed"
    },
    "tags": []
   },
   "outputs": [
    {
     "data": {
      "text/html": [
       "<div>\n",
       "<style scoped>\n",
       "    .dataframe tbody tr th:only-of-type {\n",
       "        vertical-align: middle;\n",
       "    }\n",
       "\n",
       "    .dataframe tbody tr th {\n",
       "        vertical-align: top;\n",
       "    }\n",
       "\n",
       "    .dataframe thead th {\n",
       "        text-align: right;\n",
       "    }\n",
       "</style>\n",
       "<table border=\"1\" class=\"dataframe\">\n",
       "  <thead>\n",
       "    <tr style=\"text-align: right;\">\n",
       "      <th></th>\n",
       "      <th>rating</th>\n",
       "      <th>text</th>\n",
       "    </tr>\n",
       "  </thead>\n",
       "  <tbody>\n",
       "    <tr>\n",
       "      <th>0</th>\n",
       "      <td>0</td>\n",
       "      <td>According to Gran , the company has no plans t...</td>\n",
       "    </tr>\n",
       "    <tr>\n",
       "      <th>1</th>\n",
       "      <td>0</td>\n",
       "      <td>Technopolis plans to develop in stages an area...</td>\n",
       "    </tr>\n",
       "    <tr>\n",
       "      <th>2</th>\n",
       "      <td>2</td>\n",
       "      <td>The international electronic industry company ...</td>\n",
       "    </tr>\n",
       "    <tr>\n",
       "      <th>3</th>\n",
       "      <td>1</td>\n",
       "      <td>With the new production plant the company woul...</td>\n",
       "    </tr>\n",
       "    <tr>\n",
       "      <th>4</th>\n",
       "      <td>1</td>\n",
       "      <td>According to the company 's updated strategy f...</td>\n",
       "    </tr>\n",
       "    <tr>\n",
       "      <th>...</th>\n",
       "      <td>...</td>\n",
       "      <td>...</td>\n",
       "    </tr>\n",
       "    <tr>\n",
       "      <th>4841</th>\n",
       "      <td>2</td>\n",
       "      <td>LONDON MarketWatch -- Share prices ended lower...</td>\n",
       "    </tr>\n",
       "    <tr>\n",
       "      <th>4842</th>\n",
       "      <td>0</td>\n",
       "      <td>Rinkuskiai 's beer sales fell by 6.5 per cent ...</td>\n",
       "    </tr>\n",
       "    <tr>\n",
       "      <th>4843</th>\n",
       "      <td>2</td>\n",
       "      <td>Operating profit fell to EUR 35.4 mn from EUR ...</td>\n",
       "    </tr>\n",
       "    <tr>\n",
       "      <th>4844</th>\n",
       "      <td>2</td>\n",
       "      <td>Net sales of the Paper segment decreased to EU...</td>\n",
       "    </tr>\n",
       "    <tr>\n",
       "      <th>4845</th>\n",
       "      <td>2</td>\n",
       "      <td>Sales in Finland decreased by 10.5 % in Januar...</td>\n",
       "    </tr>\n",
       "  </tbody>\n",
       "</table>\n",
       "<p>4846 rows × 2 columns</p>\n",
       "</div>"
      ],
      "text/plain": [
       "      rating                                               text\n",
       "0          0  According to Gran , the company has no plans t...\n",
       "1          0  Technopolis plans to develop in stages an area...\n",
       "2          2  The international electronic industry company ...\n",
       "3          1  With the new production plant the company woul...\n",
       "4          1  According to the company 's updated strategy f...\n",
       "...      ...                                                ...\n",
       "4841       2  LONDON MarketWatch -- Share prices ended lower...\n",
       "4842       0  Rinkuskiai 's beer sales fell by 6.5 per cent ...\n",
       "4843       2  Operating profit fell to EUR 35.4 mn from EUR ...\n",
       "4844       2  Net sales of the Paper segment decreased to EU...\n",
       "4845       2  Sales in Finland decreased by 10.5 % in Januar...\n",
       "\n",
       "[4846 rows x 2 columns]"
      ]
     },
     "execution_count": 5,
     "metadata": {},
     "output_type": "execute_result"
    }
   ],
   "source": [
    "df['rating'] = df['rating'].replace('neutral',0)\n",
    "df['rating'] = df['rating'].replace('positive',1)\n",
    "df['rating'] = df['rating'].replace('negative',2)\n",
    "df"
   ]
  },
  {
   "cell_type": "code",
   "execution_count": 6,
   "id": "af934684",
   "metadata": {
    "execution": {
     "iopub.execute_input": "2022-02-22T04:43:12.496759Z",
     "iopub.status.busy": "2022-02-22T04:43:12.494854Z",
     "iopub.status.idle": "2022-02-22T04:43:12.501071Z",
     "shell.execute_reply": "2022-02-22T04:43:12.500452Z",
     "shell.execute_reply.started": "2022-02-22T04:33:48.146923Z"
    },
    "papermill": {
     "duration": 0.024172,
     "end_time": "2022-02-22T04:43:12.501211",
     "exception": false,
     "start_time": "2022-02-22T04:43:12.477039",
     "status": "completed"
    },
    "tags": []
   },
   "outputs": [
    {
     "data": {
      "text/plain": [
       "array([[1., 0., 0.],\n",
       "       [1., 0., 0.],\n",
       "       [0., 0., 1.],\n",
       "       ...,\n",
       "       [0., 0., 1.],\n",
       "       [0., 0., 1.],\n",
       "       [0., 0., 1.]], dtype=float32)"
      ]
     },
     "execution_count": 6,
     "metadata": {},
     "output_type": "execute_result"
    }
   ],
   "source": [
    "from keras.utils.np_utils import to_categorical\n",
    "\n",
    "y = to_categorical(df['rating'])\n",
    "y"
   ]
  },
  {
   "cell_type": "code",
   "execution_count": 7,
   "id": "a88a2716",
   "metadata": {
    "execution": {
     "iopub.execute_input": "2022-02-22T04:43:12.535986Z",
     "iopub.status.busy": "2022-02-22T04:43:12.535255Z",
     "iopub.status.idle": "2022-02-22T04:43:13.270570Z",
     "shell.execute_reply": "2022-02-22T04:43:13.270020Z",
     "shell.execute_reply.started": "2022-02-22T04:33:48.158320Z"
    },
    "papermill": {
     "duration": 0.754816,
     "end_time": "2022-02-22T04:43:13.270718",
     "exception": false,
     "start_time": "2022-02-22T04:43:12.515902",
     "status": "completed"
    },
    "tags": []
   },
   "outputs": [],
   "source": [
    "from sklearn.model_selection import train_test_split\n",
    "\n",
    "X_train,X_test,y_train,y_test = train_test_split(X,y,test_size=.3,random_state=42)"
   ]
  },
  {
   "cell_type": "code",
   "execution_count": 8,
   "id": "d35cb878",
   "metadata": {
    "execution": {
     "iopub.execute_input": "2022-02-22T04:43:13.310369Z",
     "iopub.status.busy": "2022-02-22T04:43:13.309731Z",
     "iopub.status.idle": "2022-02-22T04:43:13.565740Z",
     "shell.execute_reply": "2022-02-22T04:43:13.565104Z",
     "shell.execute_reply.started": "2022-02-22T04:33:48.175500Z"
    },
    "papermill": {
     "duration": 0.278497,
     "end_time": "2022-02-22T04:43:13.565880",
     "exception": false,
     "start_time": "2022-02-22T04:43:13.287383",
     "status": "completed"
    },
    "tags": []
   },
   "outputs": [
    {
     "name": "stderr",
     "output_type": "stream",
     "text": [
      "2022-02-22 04:43:13.339567: I tensorflow/core/common_runtime/process_util.cc:146] Creating new thread pool with default inter op setting: 2. Tune using inter_op_parallelism_threads for best performance.\n"
     ]
    },
    {
     "name": "stdout",
     "output_type": "stream",
     "text": [
      "Model: \"sequential\"\n",
      "_________________________________________________________________\n",
      "Layer (type)                 Output Shape              Param #   \n",
      "=================================================================\n",
      "embedding (Embedding)        (None, None, 64)          320000    \n",
      "_________________________________________________________________\n",
      "simple_rnn (SimpleRNN)       (None, None, 64)          8256      \n",
      "_________________________________________________________________\n",
      "simple_rnn_1 (SimpleRNN)     (None, 64)                8256      \n",
      "_________________________________________________________________\n",
      "dense (Dense)                (None, 3)                 195       \n",
      "=================================================================\n",
      "Total params: 336,707\n",
      "Trainable params: 336,707\n",
      "Non-trainable params: 0\n",
      "_________________________________________________________________\n"
     ]
    }
   ],
   "source": [
    "from keras.models import Sequential\n",
    "from keras.layers import Dense,SimpleRNN,GRU,LSTM,Embedding\n",
    "\n",
    "model = Sequential()\n",
    "\n",
    "model.add(Embedding(5000,64))\n",
    "model.add(SimpleRNN(64,return_sequences=True))\n",
    "model.add(SimpleRNN(64))\n",
    "model.add(Dense(3,activation='softmax'))\n",
    "\n",
    "model.compile(loss='categorical_crossentropy', optimizer='adam', metrics=['accuracy'])\n",
    "model.summary()"
   ]
  },
  {
   "cell_type": "code",
   "execution_count": 9,
   "id": "c174a432",
   "metadata": {
    "execution": {
     "iopub.execute_input": "2022-02-22T04:43:13.598558Z",
     "iopub.status.busy": "2022-02-22T04:43:13.597955Z",
     "iopub.status.idle": "2022-02-22T04:46:26.570994Z",
     "shell.execute_reply": "2022-02-22T04:46:26.571538Z",
     "shell.execute_reply.started": "2022-02-22T04:33:48.307849Z"
    },
    "papermill": {
     "duration": 192.990963,
     "end_time": "2022-02-22T04:46:26.571747",
     "exception": false,
     "start_time": "2022-02-22T04:43:13.580784",
     "status": "completed"
    },
    "tags": []
   },
   "outputs": [
    {
     "name": "stdout",
     "output_type": "stream",
     "text": [
      "Epoch 1/5\n"
     ]
    },
    {
     "name": "stderr",
     "output_type": "stream",
     "text": [
      "2022-02-22 04:43:13.654797: I tensorflow/compiler/mlir/mlir_graph_optimization_pass.cc:185] None of the MLIR Optimization Passes are enabled (registered 2)\n"
     ]
    },
    {
     "name": "stdout",
     "output_type": "stream",
     "text": [
      "340/340 [==============================] - 40s 111ms/step - loss: 0.8869 - accuracy: 0.6170\n",
      "Epoch 2/5\n",
      "340/340 [==============================] - 39s 113ms/step - loss: 0.6205 - accuracy: 0.7382\n",
      "Epoch 3/5\n",
      "340/340 [==============================] - 38s 113ms/step - loss: 0.3299 - accuracy: 0.8635\n",
      "Epoch 4/5\n",
      "340/340 [==============================] - 38s 113ms/step - loss: 0.1066 - accuracy: 0.9667\n",
      "Epoch 5/5\n",
      "340/340 [==============================] - 38s 111ms/step - loss: 0.0373 - accuracy: 0.9903\n"
     ]
    },
    {
     "data": {
      "text/plain": [
       "<keras.callbacks.History at 0x7f340e988a10>"
      ]
     },
     "execution_count": 9,
     "metadata": {},
     "output_type": "execute_result"
    }
   ],
   "source": [
    "model.fit(X_train,y_train,epochs=5,batch_size=10)"
   ]
  },
  {
   "cell_type": "code",
   "execution_count": null,
   "id": "7c73d1e8",
   "metadata": {
    "papermill": {
     "duration": 0.62963,
     "end_time": "2022-02-22T04:46:27.834722",
     "exception": false,
     "start_time": "2022-02-22T04:46:27.205092",
     "status": "completed"
    },
    "tags": []
   },
   "outputs": [],
   "source": []
  }
 ],
 "metadata": {
  "kernelspec": {
   "display_name": "Python 3",
   "language": "python",
   "name": "python3"
  },
  "language_info": {
   "codemirror_mode": {
    "name": "ipython",
    "version": 3
   },
   "file_extension": ".py",
   "mimetype": "text/x-python",
   "name": "python",
   "nbconvert_exporter": "python",
   "pygments_lexer": "ipython3",
   "version": "3.7.12"
  },
  "papermill": {
   "default_parameters": {},
   "duration": 215.797288,
   "end_time": "2022-02-22T04:46:31.854500",
   "environment_variables": {},
   "exception": null,
   "input_path": "__notebook__.ipynb",
   "output_path": "__notebook__.ipynb",
   "parameters": {},
   "start_time": "2022-02-22T04:42:56.057212",
   "version": "2.3.3"
  }
 },
 "nbformat": 4,
 "nbformat_minor": 5
}
