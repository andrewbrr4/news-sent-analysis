{
 "cells": [
  {
   "cell_type": "code",
   "execution_count": 1,
   "id": "93c5d6fd",
   "metadata": {
    "_cell_guid": "b1076dfc-b9ad-4769-8c92-a6c4dae69d19",
    "_uuid": "8f2839f25d086af736a60e9eeb907d3b93b6e0e5",
    "execution": {
     "iopub.execute_input": "2022-02-14T19:02:40.570480Z",
     "iopub.status.busy": "2022-02-14T19:02:40.569264Z",
     "iopub.status.idle": "2022-02-14T19:02:40.609532Z",
     "shell.execute_reply": "2022-02-14T19:02:40.610015Z",
     "shell.execute_reply.started": "2022-02-14T18:55:49.386817Z"
    },
    "papermill": {
     "duration": 0.053117,
     "end_time": "2022-02-14T19:02:40.610356",
     "exception": false,
     "start_time": "2022-02-14T19:02:40.557239",
     "status": "completed"
    },
    "tags": []
   },
   "outputs": [
    {
     "name": "stdout",
     "output_type": "stream",
     "text": [
      "/kaggle/input/sentiment-analysis-for-financial-news/all-data.csv\n",
      "/kaggle/input/sentiment-analysis-for-financial-news/FinancialPhraseBank/Sentences_66Agree.txt\n",
      "/kaggle/input/sentiment-analysis-for-financial-news/FinancialPhraseBank/Sentences_AllAgree.txt\n",
      "/kaggle/input/sentiment-analysis-for-financial-news/FinancialPhraseBank/README.txt\n",
      "/kaggle/input/sentiment-analysis-for-financial-news/FinancialPhraseBank/License.txt\n",
      "/kaggle/input/sentiment-analysis-for-financial-news/FinancialPhraseBank/Sentences_75Agree.txt\n",
      "/kaggle/input/sentiment-analysis-for-financial-news/FinancialPhraseBank/Sentences_50Agree.txt\n"
     ]
    }
   ],
   "source": [
    "# This Python 3 environment comes with many helpful analytics libraries installed\n",
    "# It is defined by the kaggle/python Docker image: https://github.com/kaggle/docker-python\n",
    "# For example, here's several helpful packages to load\n",
    "\n",
    "import numpy as np # linear algebra\n",
    "import pandas as pd # data processing, CSV file I/O (e.g. pd.read_csv)\n",
    "\n",
    "# Input data files are available in the read-only \"../input/\" directory\n",
    "# For example, running this (by clicking run or pressing Shift+Enter) will list all files under the input directory\n",
    "\n",
    "import os\n",
    "for dirname, _, filenames in os.walk('/kaggle/input'):\n",
    "    for filename in filenames:\n",
    "        print(os.path.join(dirname, filename))\n",
    "\n",
    "# You can write up to 20GB to the current directory (/kaggle/working/) that gets preserved as output when you create a version using \"Save & Run All\" \n",
    "# You can also write temporary files to /kaggle/temp/, but they won't be saved outside of the current session"
   ]
  },
  {
   "cell_type": "code",
   "execution_count": 2,
   "id": "35c71280",
   "metadata": {
    "execution": {
     "iopub.execute_input": "2022-02-14T19:02:40.631730Z",
     "iopub.status.busy": "2022-02-14T19:02:40.630814Z",
     "iopub.status.idle": "2022-02-14T19:02:40.693644Z",
     "shell.execute_reply": "2022-02-14T19:02:40.694126Z",
     "shell.execute_reply.started": "2022-02-14T19:00:48.570504Z"
    },
    "papermill": {
     "duration": 0.075355,
     "end_time": "2022-02-14T19:02:40.694322",
     "exception": false,
     "start_time": "2022-02-14T19:02:40.618967",
     "status": "completed"
    },
    "tags": []
   },
   "outputs": [
    {
     "data": {
      "text/html": [
       "<div>\n",
       "<style scoped>\n",
       "    .dataframe tbody tr th:only-of-type {\n",
       "        vertical-align: middle;\n",
       "    }\n",
       "\n",
       "    .dataframe tbody tr th {\n",
       "        vertical-align: top;\n",
       "    }\n",
       "\n",
       "    .dataframe thead th {\n",
       "        text-align: right;\n",
       "    }\n",
       "</style>\n",
       "<table border=\"1\" class=\"dataframe\">\n",
       "  <thead>\n",
       "    <tr style=\"text-align: right;\">\n",
       "      <th></th>\n",
       "      <th>rating</th>\n",
       "      <th>text</th>\n",
       "    </tr>\n",
       "  </thead>\n",
       "  <tbody>\n",
       "    <tr>\n",
       "      <th>0</th>\n",
       "      <td>neutral</td>\n",
       "      <td>According to Gran , the company has no plans t...</td>\n",
       "    </tr>\n",
       "    <tr>\n",
       "      <th>1</th>\n",
       "      <td>neutral</td>\n",
       "      <td>Technopolis plans to develop in stages an area...</td>\n",
       "    </tr>\n",
       "    <tr>\n",
       "      <th>2</th>\n",
       "      <td>negative</td>\n",
       "      <td>The international electronic industry company ...</td>\n",
       "    </tr>\n",
       "    <tr>\n",
       "      <th>3</th>\n",
       "      <td>positive</td>\n",
       "      <td>With the new production plant the company woul...</td>\n",
       "    </tr>\n",
       "    <tr>\n",
       "      <th>4</th>\n",
       "      <td>positive</td>\n",
       "      <td>According to the company 's updated strategy f...</td>\n",
       "    </tr>\n",
       "  </tbody>\n",
       "</table>\n",
       "</div>"
      ],
      "text/plain": [
       "     rating                                               text\n",
       "0   neutral  According to Gran , the company has no plans t...\n",
       "1   neutral  Technopolis plans to develop in stages an area...\n",
       "2  negative  The international electronic industry company ...\n",
       "3  positive  With the new production plant the company woul...\n",
       "4  positive  According to the company 's updated strategy f..."
      ]
     },
     "execution_count": 2,
     "metadata": {},
     "output_type": "execute_result"
    }
   ],
   "source": [
    "df = pd.read_csv('/kaggle/input/sentiment-analysis-for-financial-news/all-data.csv',encoding='latin1'\n",
    "                ,header=None,names=['rating','text'])\n",
    "df.head()"
   ]
  },
  {
   "cell_type": "code",
   "execution_count": null,
   "id": "5945241e",
   "metadata": {
    "papermill": {
     "duration": 0.007609,
     "end_time": "2022-02-14T19:02:40.710086",
     "exception": false,
     "start_time": "2022-02-14T19:02:40.702477",
     "status": "completed"
    },
    "tags": []
   },
   "outputs": [],
   "source": []
  },
  {
   "cell_type": "markdown",
   "id": "859ebd08",
   "metadata": {
    "papermill": {
     "duration": 0.007575,
     "end_time": "2022-02-14T19:02:40.725531",
     "exception": false,
     "start_time": "2022-02-14T19:02:40.717956",
     "status": "completed"
    },
    "tags": []
   },
   "source": [
    "# PLAN - run a neural network text classification model"
   ]
  },
  {
   "cell_type": "code",
   "execution_count": 3,
   "id": "b386f9dc",
   "metadata": {
    "execution": {
     "iopub.execute_input": "2022-02-14T19:02:40.745242Z",
     "iopub.status.busy": "2022-02-14T19:02:40.744283Z",
     "iopub.status.idle": "2022-02-14T19:02:47.133776Z",
     "shell.execute_reply": "2022-02-14T19:02:47.134393Z",
     "shell.execute_reply.started": "2022-02-14T19:01:37.237531Z"
    },
    "papermill": {
     "duration": 6.401223,
     "end_time": "2022-02-14T19:02:47.134587",
     "exception": false,
     "start_time": "2022-02-14T19:02:40.733364",
     "status": "completed"
    },
    "tags": []
   },
   "outputs": [],
   "source": [
    "from sklearn.feature_extraction.text import TfidfVectorizer\n",
    "from tensorflow import keras"
   ]
  },
  {
   "cell_type": "code",
   "execution_count": null,
   "id": "6922d119",
   "metadata": {
    "papermill": {
     "duration": 0.007664,
     "end_time": "2022-02-14T19:02:47.150248",
     "exception": false,
     "start_time": "2022-02-14T19:02:47.142584",
     "status": "completed"
    },
    "tags": []
   },
   "outputs": [],
   "source": []
  }
 ],
 "metadata": {
  "kernelspec": {
   "display_name": "Python 3",
   "language": "python",
   "name": "python3"
  },
  "language_info": {
   "codemirror_mode": {
    "name": "ipython",
    "version": 3
   },
   "file_extension": ".py",
   "mimetype": "text/x-python",
   "name": "python",
   "nbconvert_exporter": "python",
   "pygments_lexer": "ipython3",
   "version": "3.7.12"
  },
  "papermill": {
   "default_parameters": {},
   "duration": 19.66367,
   "end_time": "2022-02-14T19:02:49.852149",
   "environment_variables": {},
   "exception": null,
   "input_path": "__notebook__.ipynb",
   "output_path": "__notebook__.ipynb",
   "parameters": {},
   "start_time": "2022-02-14T19:02:30.188479",
   "version": "2.3.3"
  }
 },
 "nbformat": 4,
 "nbformat_minor": 5
}
