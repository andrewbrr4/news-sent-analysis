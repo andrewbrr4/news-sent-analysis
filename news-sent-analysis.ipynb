{
 "cells": [
  {
   "cell_type": "code",
   "execution_count": 1,
   "id": "4423cfbc",
   "metadata": {
    "_cell_guid": "b1076dfc-b9ad-4769-8c92-a6c4dae69d19",
    "_uuid": "8f2839f25d086af736a60e9eeb907d3b93b6e0e5",
    "execution": {
     "iopub.execute_input": "2022-03-16T01:57:18.799294Z",
     "iopub.status.busy": "2022-03-16T01:57:18.797561Z",
     "iopub.status.idle": "2022-03-16T01:57:18.822576Z",
     "shell.execute_reply": "2022-03-16T01:57:18.823094Z",
     "shell.execute_reply.started": "2022-03-16T01:49:57.293452Z"
    },
    "papermill": {
     "duration": 0.040965,
     "end_time": "2022-03-16T01:57:18.823383",
     "exception": false,
     "start_time": "2022-03-16T01:57:18.782418",
     "status": "completed"
    },
    "tags": []
   },
   "outputs": [
    {
     "name": "stdout",
     "output_type": "stream",
     "text": [
      "/kaggle/input/sentiment-analysis-for-financial-news/all-data.csv\n",
      "/kaggle/input/sentiment-analysis-for-financial-news/FinancialPhraseBank/Sentences_66Agree.txt\n",
      "/kaggle/input/sentiment-analysis-for-financial-news/FinancialPhraseBank/Sentences_AllAgree.txt\n",
      "/kaggle/input/sentiment-analysis-for-financial-news/FinancialPhraseBank/README.txt\n",
      "/kaggle/input/sentiment-analysis-for-financial-news/FinancialPhraseBank/License.txt\n",
      "/kaggle/input/sentiment-analysis-for-financial-news/FinancialPhraseBank/Sentences_75Agree.txt\n",
      "/kaggle/input/sentiment-analysis-for-financial-news/FinancialPhraseBank/Sentences_50Agree.txt\n"
     ]
    }
   ],
   "source": [
    "# This Python 3 environment comes with many helpful analytics libraries installed\n",
    "# It is defined by the kaggle/python Docker image: https://github.com/kaggle/docker-python\n",
    "# For example, here's several helpful packages to load\n",
    "\n",
    "import numpy as np # linear algebra\n",
    "import pandas as pd # data processing, CSV file I/O (e.g. pd.read_csv)\n",
    "\n",
    "# Input data files are available in the read-only \"../input/\" directory\n",
    "# For example, running this (by clicking run or pressing Shift+Enter) will list all files under the input directory\n",
    "\n",
    "import os\n",
    "for dirname, _, filenames in os.walk('/kaggle/input'):\n",
    "    for filename in filenames:\n",
    "        print(os.path.join(dirname, filename))\n",
    "\n",
    "# You can write up to 20GB to the current directory (/kaggle/working/) that gets preserved as output when you create a version using \"Save & Run All\" \n",
    "# You can also write temporary files to /kaggle/temp/, but they won't be saved outside of the current session"
   ]
  },
  {
   "cell_type": "markdown",
   "id": "db0eb92b",
   "metadata": {
    "papermill": {
     "duration": 0.009866,
     "end_time": "2022-03-16T01:57:18.844464",
     "exception": false,
     "start_time": "2022-03-16T01:57:18.834598",
     "status": "completed"
    },
    "tags": []
   },
   "source": [
    "# Step 1 - Read in and prepare our data"
   ]
  },
  {
   "cell_type": "code",
   "execution_count": 2,
   "id": "7b09a9b9",
   "metadata": {
    "execution": {
     "iopub.execute_input": "2022-03-16T01:57:18.868611Z",
     "iopub.status.busy": "2022-03-16T01:57:18.868014Z",
     "iopub.status.idle": "2022-03-16T01:57:18.914724Z",
     "shell.execute_reply": "2022-03-16T01:57:18.915218Z",
     "shell.execute_reply.started": "2022-03-16T01:49:57.890211Z"
    },
    "papermill": {
     "duration": 0.060466,
     "end_time": "2022-03-16T01:57:18.915386",
     "exception": false,
     "start_time": "2022-03-16T01:57:18.854920",
     "status": "completed"
    },
    "tags": []
   },
   "outputs": [
    {
     "data": {
      "text/html": [
       "<div>\n",
       "<style scoped>\n",
       "    .dataframe tbody tr th:only-of-type {\n",
       "        vertical-align: middle;\n",
       "    }\n",
       "\n",
       "    .dataframe tbody tr th {\n",
       "        vertical-align: top;\n",
       "    }\n",
       "\n",
       "    .dataframe thead th {\n",
       "        text-align: right;\n",
       "    }\n",
       "</style>\n",
       "<table border=\"1\" class=\"dataframe\">\n",
       "  <thead>\n",
       "    <tr style=\"text-align: right;\">\n",
       "      <th></th>\n",
       "      <th>rating</th>\n",
       "      <th>text</th>\n",
       "    </tr>\n",
       "  </thead>\n",
       "  <tbody>\n",
       "    <tr>\n",
       "      <th>0</th>\n",
       "      <td>neutral</td>\n",
       "      <td>According to Gran , the company has no plans t...</td>\n",
       "    </tr>\n",
       "    <tr>\n",
       "      <th>1</th>\n",
       "      <td>neutral</td>\n",
       "      <td>Technopolis plans to develop in stages an area...</td>\n",
       "    </tr>\n",
       "    <tr>\n",
       "      <th>2</th>\n",
       "      <td>negative</td>\n",
       "      <td>The international electronic industry company ...</td>\n",
       "    </tr>\n",
       "    <tr>\n",
       "      <th>3</th>\n",
       "      <td>positive</td>\n",
       "      <td>With the new production plant the company woul...</td>\n",
       "    </tr>\n",
       "    <tr>\n",
       "      <th>4</th>\n",
       "      <td>positive</td>\n",
       "      <td>According to the company 's updated strategy f...</td>\n",
       "    </tr>\n",
       "  </tbody>\n",
       "</table>\n",
       "</div>"
      ],
      "text/plain": [
       "     rating                                               text\n",
       "0   neutral  According to Gran , the company has no plans t...\n",
       "1   neutral  Technopolis plans to develop in stages an area...\n",
       "2  negative  The international electronic industry company ...\n",
       "3  positive  With the new production plant the company woul...\n",
       "4  positive  According to the company 's updated strategy f..."
      ]
     },
     "execution_count": 2,
     "metadata": {},
     "output_type": "execute_result"
    }
   ],
   "source": [
    "df = pd.read_csv('/kaggle/input/sentiment-analysis-for-financial-news/all-data.csv',encoding='latin1'\n",
    "                ,header=None,names=['rating','text'])\n",
    "df.head()"
   ]
  },
  {
   "cell_type": "code",
   "execution_count": 3,
   "id": "3dfcbb51",
   "metadata": {
    "execution": {
     "iopub.execute_input": "2022-03-16T01:57:18.939750Z",
     "iopub.status.busy": "2022-03-16T01:57:18.939101Z",
     "iopub.status.idle": "2022-03-16T01:57:25.068013Z",
     "shell.execute_reply": "2022-03-16T01:57:25.068525Z",
     "shell.execute_reply.started": "2022-03-16T01:49:58.248129Z"
    },
    "papermill": {
     "duration": 6.142682,
     "end_time": "2022-03-16T01:57:25.068740",
     "exception": false,
     "start_time": "2022-03-16T01:57:18.926058",
     "status": "completed"
    },
    "tags": []
   },
   "outputs": [
    {
     "data": {
      "text/plain": [
       "102    52\n",
       "95     49\n",
       "96     46\n",
       "67     43\n",
       "91     43\n",
       "       ..\n",
       "17      1\n",
       "315     1\n",
       "305     1\n",
       "9       1\n",
       "263     1\n",
       "Name: text, Length: 285, dtype: int64"
      ]
     },
     "execution_count": 3,
     "metadata": {},
     "output_type": "execute_result"
    }
   ],
   "source": [
    "from keras.preprocessing.text import Tokenizer\n",
    "\n",
    "tokenizer=Tokenizer(num_words=5000)\n",
    "tokenizer.fit_on_texts(df.text.values)\n",
    "\n",
    "tokenized = tokenizer.texts_to_sequences(df.text.values)\n",
    "sen_length = df.text.apply(lambda x: len(x))\n",
    "sen_length.value_counts()"
   ]
  },
  {
   "cell_type": "code",
   "execution_count": 4,
   "id": "be7af2ab",
   "metadata": {
    "execution": {
     "iopub.execute_input": "2022-03-16T01:57:25.096942Z",
     "iopub.status.busy": "2022-03-16T01:57:25.095811Z",
     "iopub.status.idle": "2022-03-16T01:57:25.122330Z",
     "shell.execute_reply": "2022-03-16T01:57:25.121812Z",
     "shell.execute_reply.started": "2022-03-16T01:50:05.210548Z"
    },
    "papermill": {
     "duration": 0.043067,
     "end_time": "2022-03-16T01:57:25.122464",
     "exception": false,
     "start_time": "2022-03-16T01:57:25.079397",
     "status": "completed"
    },
    "tags": []
   },
   "outputs": [
    {
     "data": {
      "text/plain": [
       "array([[  0,   0,   0, ...,  11,  10, 747],\n",
       "       [  0,   0,   0, ...,   1, 929,  19],\n",
       "       [  0,   0,   0, ...,   1, 877, 251],\n",
       "       ...,\n",
       "       [  0,   0,   0, ..., 129,  38,  23],\n",
       "       [  0,   0,   0, ...,  57,  54,  23],\n",
       "       [  0,   0,   0, ..., 962,  18, 295]], dtype=int32)"
      ]
     },
     "execution_count": 4,
     "metadata": {},
     "output_type": "execute_result"
    }
   ],
   "source": [
    "from keras.preprocessing.sequence import pad_sequences\n",
    "\n",
    "X = pad_sequences(tokenized,maxlen=200)\n",
    "X"
   ]
  },
  {
   "cell_type": "code",
   "execution_count": 5,
   "id": "b71fea3b",
   "metadata": {
    "execution": {
     "iopub.execute_input": "2022-03-16T01:57:25.161744Z",
     "iopub.status.busy": "2022-03-16T01:57:25.161044Z",
     "iopub.status.idle": "2022-03-16T01:57:25.166977Z",
     "shell.execute_reply": "2022-03-16T01:57:25.166318Z",
     "shell.execute_reply.started": "2022-03-16T01:50:05.244036Z"
    },
    "papermill": {
     "duration": 0.033421,
     "end_time": "2022-03-16T01:57:25.167120",
     "exception": false,
     "start_time": "2022-03-16T01:57:25.133699",
     "status": "completed"
    },
    "tags": []
   },
   "outputs": [
    {
     "data": {
      "text/html": [
       "<div>\n",
       "<style scoped>\n",
       "    .dataframe tbody tr th:only-of-type {\n",
       "        vertical-align: middle;\n",
       "    }\n",
       "\n",
       "    .dataframe tbody tr th {\n",
       "        vertical-align: top;\n",
       "    }\n",
       "\n",
       "    .dataframe thead th {\n",
       "        text-align: right;\n",
       "    }\n",
       "</style>\n",
       "<table border=\"1\" class=\"dataframe\">\n",
       "  <thead>\n",
       "    <tr style=\"text-align: right;\">\n",
       "      <th></th>\n",
       "      <th>rating</th>\n",
       "      <th>text</th>\n",
       "    </tr>\n",
       "  </thead>\n",
       "  <tbody>\n",
       "    <tr>\n",
       "      <th>0</th>\n",
       "      <td>0</td>\n",
       "      <td>According to Gran , the company has no plans t...</td>\n",
       "    </tr>\n",
       "    <tr>\n",
       "      <th>1</th>\n",
       "      <td>0</td>\n",
       "      <td>Technopolis plans to develop in stages an area...</td>\n",
       "    </tr>\n",
       "    <tr>\n",
       "      <th>2</th>\n",
       "      <td>2</td>\n",
       "      <td>The international electronic industry company ...</td>\n",
       "    </tr>\n",
       "    <tr>\n",
       "      <th>3</th>\n",
       "      <td>1</td>\n",
       "      <td>With the new production plant the company woul...</td>\n",
       "    </tr>\n",
       "    <tr>\n",
       "      <th>4</th>\n",
       "      <td>1</td>\n",
       "      <td>According to the company 's updated strategy f...</td>\n",
       "    </tr>\n",
       "    <tr>\n",
       "      <th>...</th>\n",
       "      <td>...</td>\n",
       "      <td>...</td>\n",
       "    </tr>\n",
       "    <tr>\n",
       "      <th>4841</th>\n",
       "      <td>2</td>\n",
       "      <td>LONDON MarketWatch -- Share prices ended lower...</td>\n",
       "    </tr>\n",
       "    <tr>\n",
       "      <th>4842</th>\n",
       "      <td>0</td>\n",
       "      <td>Rinkuskiai 's beer sales fell by 6.5 per cent ...</td>\n",
       "    </tr>\n",
       "    <tr>\n",
       "      <th>4843</th>\n",
       "      <td>2</td>\n",
       "      <td>Operating profit fell to EUR 35.4 mn from EUR ...</td>\n",
       "    </tr>\n",
       "    <tr>\n",
       "      <th>4844</th>\n",
       "      <td>2</td>\n",
       "      <td>Net sales of the Paper segment decreased to EU...</td>\n",
       "    </tr>\n",
       "    <tr>\n",
       "      <th>4845</th>\n",
       "      <td>2</td>\n",
       "      <td>Sales in Finland decreased by 10.5 % in Januar...</td>\n",
       "    </tr>\n",
       "  </tbody>\n",
       "</table>\n",
       "<p>4846 rows × 2 columns</p>\n",
       "</div>"
      ],
      "text/plain": [
       "      rating                                               text\n",
       "0          0  According to Gran , the company has no plans t...\n",
       "1          0  Technopolis plans to develop in stages an area...\n",
       "2          2  The international electronic industry company ...\n",
       "3          1  With the new production plant the company woul...\n",
       "4          1  According to the company 's updated strategy f...\n",
       "...      ...                                                ...\n",
       "4841       2  LONDON MarketWatch -- Share prices ended lower...\n",
       "4842       0  Rinkuskiai 's beer sales fell by 6.5 per cent ...\n",
       "4843       2  Operating profit fell to EUR 35.4 mn from EUR ...\n",
       "4844       2  Net sales of the Paper segment decreased to EU...\n",
       "4845       2  Sales in Finland decreased by 10.5 % in Januar...\n",
       "\n",
       "[4846 rows x 2 columns]"
      ]
     },
     "execution_count": 5,
     "metadata": {},
     "output_type": "execute_result"
    }
   ],
   "source": [
    "df['rating'] = df['rating'].replace('neutral',0)\n",
    "df['rating'] = df['rating'].replace('positive',1)\n",
    "df['rating'] = df['rating'].replace('negative',2)\n",
    "df"
   ]
  },
  {
   "cell_type": "code",
   "execution_count": 6,
   "id": "9b1aaa90",
   "metadata": {
    "execution": {
     "iopub.execute_input": "2022-03-16T01:57:25.196459Z",
     "iopub.status.busy": "2022-03-16T01:57:25.195438Z",
     "iopub.status.idle": "2022-03-16T01:57:25.201602Z",
     "shell.execute_reply": "2022-03-16T01:57:25.200989Z",
     "shell.execute_reply.started": "2022-03-16T01:51:14.000334Z"
    },
    "papermill": {
     "duration": 0.022509,
     "end_time": "2022-03-16T01:57:25.201775",
     "exception": false,
     "start_time": "2022-03-16T01:57:25.179266",
     "status": "completed"
    },
    "tags": []
   },
   "outputs": [
    {
     "data": {
      "text/plain": [
       "array([[1., 0., 0.],\n",
       "       [1., 0., 0.],\n",
       "       [0., 0., 1.],\n",
       "       ...,\n",
       "       [0., 0., 1.],\n",
       "       [0., 0., 1.],\n",
       "       [0., 0., 1.]], dtype=float32)"
      ]
     },
     "execution_count": 6,
     "metadata": {},
     "output_type": "execute_result"
    }
   ],
   "source": [
    "from keras.utils.np_utils import to_categorical\n",
    "\n",
    "y = to_categorical(df['rating'])\n",
    "y"
   ]
  },
  {
   "cell_type": "code",
   "execution_count": 7,
   "id": "a206a6f1",
   "metadata": {
    "execution": {
     "iopub.execute_input": "2022-03-16T01:57:25.229569Z",
     "iopub.status.busy": "2022-03-16T01:57:25.228559Z",
     "iopub.status.idle": "2022-03-16T01:57:25.982702Z",
     "shell.execute_reply": "2022-03-16T01:57:25.982077Z",
     "shell.execute_reply.started": "2022-03-16T01:51:14.759123Z"
    },
    "papermill": {
     "duration": 0.769033,
     "end_time": "2022-03-16T01:57:25.983060",
     "exception": false,
     "start_time": "2022-03-16T01:57:25.214027",
     "status": "completed"
    },
    "tags": []
   },
   "outputs": [],
   "source": [
    "from sklearn.model_selection import train_test_split\n",
    "\n",
    "X_train,X_test,y_train,y_test = train_test_split(X,y,test_size=.3,random_state=42)"
   ]
  },
  {
   "cell_type": "markdown",
   "id": "1c3e51c0",
   "metadata": {
    "papermill": {
     "duration": 0.013676,
     "end_time": "2022-03-16T01:57:26.009741",
     "exception": false,
     "start_time": "2022-03-16T01:57:25.996065",
     "status": "completed"
    },
    "tags": []
   },
   "source": [
    "# Step 2 - Create and train our model!"
   ]
  },
  {
   "cell_type": "code",
   "execution_count": 8,
   "id": "8740f0e2",
   "metadata": {
    "execution": {
     "iopub.execute_input": "2022-03-16T01:57:26.041038Z",
     "iopub.status.busy": "2022-03-16T01:57:26.039944Z",
     "iopub.status.idle": "2022-03-16T01:57:26.356971Z",
     "shell.execute_reply": "2022-03-16T01:57:26.356379Z",
     "shell.execute_reply.started": "2022-03-16T01:51:40.354217Z"
    },
    "papermill": {
     "duration": 0.333785,
     "end_time": "2022-03-16T01:57:26.357119",
     "exception": false,
     "start_time": "2022-03-16T01:57:26.023334",
     "status": "completed"
    },
    "tags": []
   },
   "outputs": [
    {
     "name": "stderr",
     "output_type": "stream",
     "text": [
      "2022-03-16 01:57:26.088547: I tensorflow/core/common_runtime/process_util.cc:146] Creating new thread pool with default inter op setting: 2. Tune using inter_op_parallelism_threads for best performance.\n"
     ]
    },
    {
     "name": "stdout",
     "output_type": "stream",
     "text": [
      "Model: \"sequential\"\n",
      "_________________________________________________________________\n",
      "Layer (type)                 Output Shape              Param #   \n",
      "=================================================================\n",
      "embedding (Embedding)        (None, None, 64)          320000    \n",
      "_________________________________________________________________\n",
      "simple_rnn (SimpleRNN)       (None, None, 64)          8256      \n",
      "_________________________________________________________________\n",
      "simple_rnn_1 (SimpleRNN)     (None, 64)                8256      \n",
      "_________________________________________________________________\n",
      "dense (Dense)                (None, 3)                 195       \n",
      "=================================================================\n",
      "Total params: 336,707\n",
      "Trainable params: 336,707\n",
      "Non-trainable params: 0\n",
      "_________________________________________________________________\n"
     ]
    }
   ],
   "source": [
    "from keras.models import Sequential\n",
    "from keras.layers import Dense,SimpleRNN,GRU,LSTM,Embedding\n",
    "\n",
    "model = Sequential()\n",
    "\n",
    "model.add(Embedding(5000,64))\n",
    "model.add(SimpleRNN(64,return_sequences=True))\n",
    "model.add(SimpleRNN(64))\n",
    "model.add(Dense(3,activation='softmax'))\n",
    "\n",
    "model.compile(loss='categorical_crossentropy', optimizer='adam', metrics=['accuracy'])\n",
    "model.summary()"
   ]
  },
  {
   "cell_type": "code",
   "execution_count": 9,
   "id": "273d5dbc",
   "metadata": {
    "execution": {
     "iopub.execute_input": "2022-03-16T01:57:26.388532Z",
     "iopub.status.busy": "2022-03-16T01:57:26.387884Z",
     "iopub.status.idle": "2022-03-16T02:00:25.947898Z",
     "shell.execute_reply": "2022-03-16T02:00:25.947315Z",
     "shell.execute_reply.started": "2022-03-16T01:51:42.174214Z"
    },
    "papermill": {
     "duration": 179.577706,
     "end_time": "2022-03-16T02:00:25.948051",
     "exception": false,
     "start_time": "2022-03-16T01:57:26.370345",
     "status": "completed"
    },
    "tags": []
   },
   "outputs": [
    {
     "name": "stdout",
     "output_type": "stream",
     "text": [
      "Epoch 1/5\n"
     ]
    },
    {
     "name": "stderr",
     "output_type": "stream",
     "text": [
      "2022-03-16 01:57:26.453351: I tensorflow/compiler/mlir/mlir_graph_optimization_pass.cc:185] None of the MLIR Optimization Passes are enabled (registered 2)\n"
     ]
    },
    {
     "name": "stdout",
     "output_type": "stream",
     "text": [
      "340/340 [==============================] - 38s 105ms/step - loss: 0.8669 - accuracy: 0.6268\n",
      "Epoch 2/5\n",
      "340/340 [==============================] - 35s 103ms/step - loss: 0.6469 - accuracy: 0.7273\n",
      "Epoch 3/5\n",
      "340/340 [==============================] - 35s 104ms/step - loss: 0.4364 - accuracy: 0.8264\n",
      "Epoch 4/5\n",
      "340/340 [==============================] - 36s 105ms/step - loss: 0.5524 - accuracy: 0.7686\n",
      "Epoch 5/5\n",
      "340/340 [==============================] - 36s 105ms/step - loss: 0.5128 - accuracy: 0.7804\n"
     ]
    },
    {
     "data": {
      "text/plain": [
       "<keras.callbacks.History at 0x7f90ff79ff10>"
      ]
     },
     "execution_count": 9,
     "metadata": {},
     "output_type": "execute_result"
    }
   ],
   "source": [
    "model.fit(X_train,y_train,epochs=5,batch_size=10)"
   ]
  },
  {
   "cell_type": "code",
   "execution_count": null,
   "id": "9c51a529",
   "metadata": {
    "papermill": {
     "duration": 0.525683,
     "end_time": "2022-03-16T02:00:26.976114",
     "exception": false,
     "start_time": "2022-03-16T02:00:26.450431",
     "status": "completed"
    },
    "tags": []
   },
   "outputs": [],
   "source": []
  }
 ],
 "metadata": {
  "kernelspec": {
   "display_name": "Python 3",
   "language": "python",
   "name": "python3"
  },
  "language_info": {
   "codemirror_mode": {
    "name": "ipython",
    "version": 3
   },
   "file_extension": ".py",
   "mimetype": "text/x-python",
   "name": "python",
   "nbconvert_exporter": "python",
   "pygments_lexer": "ipython3",
   "version": "3.7.12"
  },
  "papermill": {
   "default_parameters": {},
   "duration": 200.712719,
   "end_time": "2022-03-16T02:00:30.263196",
   "environment_variables": {},
   "exception": null,
   "input_path": "__notebook__.ipynb",
   "output_path": "__notebook__.ipynb",
   "parameters": {},
   "start_time": "2022-03-16T01:57:09.550477",
   "version": "2.3.3"
  }
 },
 "nbformat": 4,
 "nbformat_minor": 5
}
